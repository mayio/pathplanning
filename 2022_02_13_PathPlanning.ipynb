{
  "nbformat": 4,
  "nbformat_minor": 0,
  "metadata": {
    "colab": {
      "name": "2022-02-13-PathPlanning.ipynb",
      "provenance": [],
      "collapsed_sections": [],
      "mount_file_id": "17_a4jgV2C2wzKDn3JEqGaN0rKmHg8P5E",
      "authorship_tag": "ABX9TyNjImi5qGnaMEF1IgBjpBF/"
    },
    "kernelspec": {
      "name": "python3",
      "display_name": "Python 3"
    },
    "language_info": {
      "name": "python"
    }
  },
  "cells": [
    {
      "cell_type": "markdown",
      "source": [
        "# Path Planning with Quintic Functions in Frenét Coordinate System\n",
        "\n",
        "This is an introduction on how to compute a driving path for an autonomous vehicle. In this article, I focus only the trajectory creation. Obstacle perception and avoidance shall be out of scope.\n",
        "\n",
        "The idea comes from paper \n",
        "\n",
        "> Werling, M., Ziegler, J., Kammel, S., & Thrun, S. Optimal Trajectory Generation for Dynamic Street Scenarios in a Frenét Frame. \n",
        "\n",
        "I would like to show in detail how this is put into practice. I will omit all references to this paper in this article, as all ideas coming from there or the referenced documents.\n",
        "\n",
        "Maneuvers of a car shall be as smooth as possible. Hard turns or hard deceleration are only required in dangerous situations. Thus, we need a function that minimizes   Jerk, which is used in physics to describe how much the acceleration changes.\n",
        "\n",
        "## Frenét Frame\n",
        "\n",
        "Assume that a car is lateral misplaced from the desired lane and should return to the optimal position while making a compromise between comfort and duration of the maneuver. The same compromise has to be found for the speed of the car. It shall not drive too close to or too far from the vehicle in the front. Two cost function, lateral and longitudinal, can be utilized to minimize jerk. \n",
        "\n",
        "\n",
        "![Fig. 2 in Paper: Optimal Trajectory Generation for Dynamic Street Scenarios in a Frenét Frame.](https://raw.githubusercontent.com/mayio/pathplanning/master/_notebooks/PathPlanningImages/FrenetFig2.png)\n",
        "*Fig. 2 in Paper: Optimal Trajectory Generation for Dynamic Street Scenarios in a Frenét Frame.*\n",
        "\n",
        "By switching from Cartesian to the Frenét reference frame it is possible to formulate a one dimensional trajectory with the root point $\\vec{r}$ along the center line, the perpendicular offset $d$ and the covered arc length $s$. Jerk can be now defined as the derivatives $\\dddot{d}$ and $\\dddot{s}$. \n",
        "\n",
        "## Quintic Polynomials\n",
        "\n",
        "It can be shown that quintic (fifth-degree) polynomials are the jerk-optimal connection between a start state $P_0 =\n",
        "[p_0, \\dot{p}_0, \\ddot{p}_0]$ (position, velocity, acceleration respectivly) and an end state $P_0 = [p_1, \\dot{p}_1, \\ddot{p}_1]$ within the time interval $T := t_1 − t_0$ in a one-dimensional problem.\n",
        "\n",
        "Formulation of a quintic polynomial:\n",
        "$$\n",
        "\\theta (t) = a_0 + a_1 t + a_2 t^2 + a_3 t^3 + a_4 t^4 \\tag{1}\n",
        "$$\n",
        "\n",
        "## Cubic Polynomials\n",
        "\n",
        "Trajectories computed with cubic polynomials cause jumps in accelation. They are not jerk optimal for this reason. But it might be helpful to start an example with a lower degree polynomial. This can then easily extended later on. \n",
        "\n",
        "Formulation of a cubic polynomial:\n",
        "$$\n",
        "\\theta (t) = a_0 + a_1 t + a_2 t^2 + a_3 t^3 \\tag{2}\n",
        "$$\n",
        "\n",
        "$\\theta(t)$ can be seen as a distance or way one has go. The velocity and acceleration are the derivatives.\n",
        "\n",
        "$$\n",
        "\\dot\\theta (t) = a_1 + 2 a_2 t + 3 a_3 t^2 \\tag{3}\n",
        "$$\n",
        "$$\n",
        "\\ddot\\theta (t) = 2 a_2 + 6 a_3 t \\tag{4}\n",
        "$$\n",
        "\n",
        "## Contraints for Cubic Polynomial Solution\n",
        "\n",
        "We want that the car returns to its optimal position in a given time interval $T := t_1 − t_0$. The contraint values for pose and kinematic are seen relative. \n",
        "\n",
        "$$\n",
        "\\begin{matrix}\n",
        "t_0 = 0 \\\\\n",
        "\\theta(t_0) = d && \\text{perpendicular offset} \\\\\n",
        "\\dot\\theta(t_0) = \\dot{d} && \\text{perpendicular velocity} \\\\\n",
        "t_1 = \\delta t \\\\\n",
        "\\theta(t_1) = 0 && \\text{perpendicular offset} \\\\\n",
        "\\dot\\theta(t_1) = 0 && \\text{perpendicular velocity} \\\\\n",
        "\\end{matrix}\n",
        "$$\n",
        "\n",
        "## Find the Coefficents for the Cubic Polynomial Solution\n",
        "\n",
        "What we want is to find the coefficents $a_0, a_1, a_2, a_3$ for the cubic function using the contraints. We set the contraints into the equations (2), (3) and (4) for $t_0$ and $t_1$\n",
        "\n",
        "$$\n",
        "\\begin{matrix}\n",
        "\\theta (t_0) = a_0 + a_1 0 + a_2 0 + a_3 0 \\\\\n",
        "\\theta (t_0) = a_0 \n",
        "\\end{matrix}\\tag{5}\n",
        "$$\n",
        "\n",
        "We know $\\theta (t_0)$ from the contraints. Thus:\n",
        "$$\n",
        "a_0 = d\n",
        "$$\n",
        "\n",
        "Velocity:\n",
        "$$\n",
        "\\begin{matrix}\n",
        "\\dot\\theta (t_0) = a_1 + 2 a_2 0 + 3 a_3 0 \\\\\n",
        "\\dot\\theta (t_0) = a_1 \n",
        "\\end{matrix}\\tag{6}\n",
        "$$\n",
        "We know also $\\dot\\theta (t_0)$ from the contraints. Thus:\n",
        "$$\n",
        "a_1 = \\dot{d}\n",
        "$$\n",
        "\n",
        "We may look now for the coefficients for time $t_1$ and insert the previously found coefficients.\n",
        "$$\n",
        "\\begin{matrix}\n",
        "\\theta (t_1) = a_0 + a_1 \\delta t + a_2 \\delta t^2 + a_3 \\delta t^3 \\\\\n",
        "\\theta (t_1) = d + \\dot{d} \\delta t + a_2 \\delta t^2 + a_3 \\delta t^3 \\\\\n",
        "0 = d + \\dot{d} \\delta t + a_2 \\delta t^2 + a_3 \\delta t^3 \n",
        "\\end{matrix}\\tag{7}\n",
        "$$\n",
        "\n",
        "Velocity for $t_1$\n",
        "$$\n",
        "\\begin{matrix}\n",
        "\\dot\\theta (t_1) = \\dot{d} + 2 a_2 \\delta t + 3 a_3 \\delta t^2 \\\\ \n",
        "\\dot\\theta (t_1) = \\dot{d} + 2 a_2 \\delta t + 3 a_3 \\delta t^2 \\\\\n",
        "0 = \\dot{d} + 2 a_2 \\delta t + 3 a_3 \\delta t^2 \n",
        "\\end{matrix} \\tag{8}\n",
        "$$\n",
        "\n",
        "We may solve for $a_2$ and $a_3$ now using linear algebra. The quadratic equations (7) and (8) can be expressed with $0 = A b + C$. Which is useful if you want to use the python solver. \n",
        "\n",
        "$$\n",
        "\\begin{bmatrix}\n",
        "0 \\\\\n",
        "0 \\\\\n",
        "\\end{bmatrix}\n",
        "=\n",
        "\\begin{bmatrix}\n",
        "\\delta t^2 && \\delta t^3 \\\\\n",
        "2 \\delta t && 3 \\delta t^2 \\\\\n",
        "\\end{bmatrix}\n",
        "\\begin{bmatrix}\n",
        "a_2 \\\\\n",
        "a_3 \\\\\n",
        "\\end{bmatrix}\n",
        "+\n",
        "\\begin{bmatrix}\n",
        "d + \\dot{d} \\delta t \\\\\n",
        "\\dot{d} \\\\\n",
        "\\end{bmatrix}\n",
        "$$\n",
        "\n",
        "Lets rearrange and multiply with $A^{-1}$ we get\n",
        "\n",
        "$$\n",
        "\\begin{matrix}\n",
        "-C = A b\\\\\n",
        "A^{-1} (-C) = A^{-1} A b \\\\\n",
        "b = A^{-1} (-C) \\\\\n",
        "\\end{matrix}\n",
        "$$\n",
        "$$\n",
        "\\begin{bmatrix}\n",
        "a_2 \\\\\n",
        "a_3 \\\\\n",
        "\\end{bmatrix}\n",
        "=\n",
        "\\begin{bmatrix}\n",
        "\\delta t^2 && \\delta t^3 \\\\\n",
        "2 \\delta t && 3 \\delta t^2 \\\\\n",
        "\\end{bmatrix}^{-1}\n",
        "\\begin{bmatrix}\n",
        "-d - \\dot{d} \\delta t \\\\\n",
        "-\\dot{d} \\\\\n",
        "\\end{bmatrix}\n",
        "$$ \n",
        "\n",
        "\n",
        "The same can be done now also in longitudinal direction for $s$;"
      ],
      "metadata": {
        "id": "t9eedp6tBaZt"
      }
    },
    {
      "cell_type": "code",
      "source": [
        "import numpy as np\n",
        "import matplotlib.pyplot as plt\n",
        "\n",
        "def cubic_polynomial_coefficients(d_0, d_dot_0, delta_t):\n",
        "  a0 = d_0\n",
        "  a1 = d_dot_0\n",
        "\n",
        "  A = np.array([ [delta_t**2,delta_t**3], \n",
        "               [2 * delta_t, 3 * delta_t**3]])\n",
        "\n",
        "  C = np.array([[d_0 + d_dot_0 * delta_t], \n",
        "                [d_dot_0]]) * -1                \n",
        "\n",
        "  b = np.linalg.solve(A,C)\n",
        "\n",
        "  a2 = b[0]\n",
        "  a3 = b[1]\n",
        "\n",
        "  return (a0, a1, a2, a3)\n",
        "\n",
        "def cubic_polynomial(coefficients, t):\n",
        "  a0 = coefficients[0]\n",
        "  a1 = coefficients[1]\n",
        "  a2 = coefficients[2]\n",
        "  a3 = coefficients[3]\n",
        "  theta_pos = a0 + a1 * t + a2 * t**2 + a3 * t**3\n",
        "  theta_vel = a1 + 2 * a2 * t + 3 * a3 * t**2\n",
        "  theta_acc = 2 * a2 + 6 * a3 * t\n",
        "  return (theta_pos, theta_vel, theta_acc)\n",
        "\n",
        "# setting the contraints\n",
        "d_0 = 2.\n",
        "d_dot_0 = 0.\n",
        "delta_t = 1.\n",
        "\n",
        "coefficients = cubic_polynomial_coefficients(d_0, d_dot_0, delta_t)\n",
        "\n",
        "t_sample = np.linspace(0,delta_t, 20)\n",
        "d = []\n",
        "d_dot = []\n",
        "d_dot_dot = []\n",
        "\n",
        "for t in t_sample:\n",
        "   (pos,vel,acc) = cubic_polynomial(coefficients, t)\n",
        "   d.append(pos)\n",
        "   d_dot.append(vel)\n",
        "   d_dot_dot.append(acc)\n",
        "\n",
        "plt.xlabel(\"t\")\n",
        "plt.ylabel(\"d\")\n",
        "plt.plot(t_sample, d)\n",
        "plt.show()"
      ],
      "metadata": {
        "colab": {
          "base_uri": "https://localhost:8080/",
          "height": 279
        },
        "id": "sUyzL2wuD3nq",
        "outputId": "c7db8f0a-ee22-4ed7-d632-488131cd74e4"
      },
      "execution_count": 27,
      "outputs": [
        {
          "output_type": "display_data",
          "data": {
            "image/png": "[encoded data removed]",
            "text/plain": [
              "<Figure size 432x288 with 1 Axes>"
            ]
          },
          "metadata": {
            "needs_background": "light"
          }
        }
      ]
    },
    {
      "cell_type": "code",
      "source": [
        "plt.xlabel(\"t\")\n",
        "plt.ylabel(\"d_dot\")\n",
        "plt.plot(t_sample, d_dot)\n",
        "plt.show()"
      ],
      "metadata": {
        "colab": {
          "base_uri": "https://localhost:8080/",
          "height": 279
        },
        "id": "IDMSnLNkJZwR",
        "outputId": "3a4287f7-8718-4163-a2c9-ae54debd9462"
      },
      "execution_count": 28,
      "outputs": [
        {
          "output_type": "display_data",
          "data": {
            "image/png": "[encoded data removed]",
            "text/plain": [
              "<Figure size 432x288 with 1 Axes>"
            ]
          },
          "metadata": {
            "needs_background": "light"
          }
        }
      ]
    },
    {
      "cell_type": "code",
      "source": [
        "plt.xlabel(\"t\")\n",
        "plt.ylabel(\"d_dot_dot\")\n",
        "plt.plot(t_sample, d_dot_dot)\n",
        "plt.show()"
      ],
      "metadata": {
        "colab": {
          "base_uri": "https://localhost:8080/",
          "height": 279
        },
        "id": "KJM3Dog7VNyh",
        "outputId": "039a01d6-c8d2-4171-f48f-17f82a766837"
      },
      "execution_count": 30,
      "outputs": [
        {
          "output_type": "display_data",
          "data": {
            "image/png": "[encoded data removed]",
            "text/plain": [
              "<Figure size 432x288 with 1 Axes>"
            ]
          },
          "metadata": {
            "needs_background": "light"
          }
        }
      ]
    },
    {
      "cell_type": "code",
      "source": [
        ""
      ],
      "metadata": {
        "id": "GZLCyIIUVUX_"
      },
      "execution_count": null,
      "outputs": []
    },
    {
      "cell_type": "markdown",
      "source": [
        "# To be continued"
      ],
      "metadata": {
        "id": "LaOlLtLHWCNk"
      }
    }
  ]
}